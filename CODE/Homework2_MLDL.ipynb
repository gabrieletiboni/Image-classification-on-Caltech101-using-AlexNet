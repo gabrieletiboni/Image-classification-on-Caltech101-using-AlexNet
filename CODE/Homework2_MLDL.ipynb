{
  "nbformat": 4,
  "nbformat_minor": 0,
  "metadata": {
    "colab": {
      "name": "Homework2-MLDL.ipynb",
      "provenance": [],
      "collapsed_sections": []
    },
    "kernelspec": {
      "name": "python3",
      "display_name": "Python 3"
    },
    "accelerator": "GPU",
    "widgets": {
      "application/vnd.jupyter.widget-state+json": {
        "f17de556bafd4b2f8014c57d36254ff1": {
          "model_module": "@jupyter-widgets/controls",
          "model_name": "HBoxModel",
          "state": {
            "_view_name": "HBoxView",
            "_dom_classes": [],
            "_model_name": "HBoxModel",
            "_view_module": "@jupyter-widgets/controls",
            "_model_module_version": "1.5.0",
            "_view_count": null,
            "_view_module_version": "1.5.0",
            "box_style": "",
            "layout": "IPY_MODEL_02654c3b6ab646b98b4d99f0b0be8c9b",
            "_model_module": "@jupyter-widgets/controls",
            "children": [
              "IPY_MODEL_20e44b8aecf546f98ab21980e6c83da4",
              "IPY_MODEL_18dabe5cb6954e999835a2a19a03dc0f"
            ]
          }
        },
        "02654c3b6ab646b98b4d99f0b0be8c9b": {
          "model_module": "@jupyter-widgets/base",
          "model_name": "LayoutModel",
          "state": {
            "_view_name": "LayoutView",
            "grid_template_rows": null,
            "right": null,
            "justify_content": null,
            "_view_module": "@jupyter-widgets/base",
            "overflow": null,
            "_model_module_version": "1.2.0",
            "_view_count": null,
            "flex_flow": null,
            "width": null,
            "min_width": null,
            "border": null,
            "align_items": null,
            "bottom": null,
            "_model_module": "@jupyter-widgets/base",
            "top": null,
            "grid_column": null,
            "overflow_y": null,
            "overflow_x": null,
            "grid_auto_flow": null,
            "grid_area": null,
            "grid_template_columns": null,
            "flex": null,
            "_model_name": "LayoutModel",
            "justify_items": null,
            "grid_row": null,
            "max_height": null,
            "align_content": null,
            "visibility": null,
            "align_self": null,
            "height": null,
            "min_height": null,
            "padding": null,
            "grid_auto_rows": null,
            "grid_gap": null,
            "max_width": null,
            "order": null,
            "_view_module_version": "1.2.0",
            "grid_template_areas": null,
            "object_position": null,
            "object_fit": null,
            "grid_auto_columns": null,
            "margin": null,
            "display": null,
            "left": null
          }
        },
        "20e44b8aecf546f98ab21980e6c83da4": {
          "model_module": "@jupyter-widgets/controls",
          "model_name": "FloatProgressModel",
          "state": {
            "_view_name": "ProgressView",
            "style": "IPY_MODEL_623057cca0334177bcbaf83061199f18",
            "_dom_classes": [],
            "description": "100%",
            "_model_name": "FloatProgressModel",
            "bar_style": "success",
            "max": 244418560,
            "_view_module": "@jupyter-widgets/controls",
            "_model_module_version": "1.5.0",
            "value": 244418560,
            "_view_count": null,
            "_view_module_version": "1.5.0",
            "orientation": "horizontal",
            "min": 0,
            "description_tooltip": null,
            "_model_module": "@jupyter-widgets/controls",
            "layout": "IPY_MODEL_16b6c084c4a14034be14cb6d0e574beb"
          }
        },
        "18dabe5cb6954e999835a2a19a03dc0f": {
          "model_module": "@jupyter-widgets/controls",
          "model_name": "HTMLModel",
          "state": {
            "_view_name": "HTMLView",
            "style": "IPY_MODEL_a42727815bdf4f099ba7cbe908df82b2",
            "_dom_classes": [],
            "description": "",
            "_model_name": "HTMLModel",
            "placeholder": "​",
            "_view_module": "@jupyter-widgets/controls",
            "_model_module_version": "1.5.0",
            "value": " 233M/233M [05:25&lt;00:00, 750kB/s]",
            "_view_count": null,
            "_view_module_version": "1.5.0",
            "description_tooltip": null,
            "_model_module": "@jupyter-widgets/controls",
            "layout": "IPY_MODEL_a0e0764c68c94c3fbcfdb767ee88f77b"
          }
        },
        "623057cca0334177bcbaf83061199f18": {
          "model_module": "@jupyter-widgets/controls",
          "model_name": "ProgressStyleModel",
          "state": {
            "_view_name": "StyleView",
            "_model_name": "ProgressStyleModel",
            "description_width": "initial",
            "_view_module": "@jupyter-widgets/base",
            "_model_module_version": "1.5.0",
            "_view_count": null,
            "_view_module_version": "1.2.0",
            "bar_color": null,
            "_model_module": "@jupyter-widgets/controls"
          }
        },
        "16b6c084c4a14034be14cb6d0e574beb": {
          "model_module": "@jupyter-widgets/base",
          "model_name": "LayoutModel",
          "state": {
            "_view_name": "LayoutView",
            "grid_template_rows": null,
            "right": null,
            "justify_content": null,
            "_view_module": "@jupyter-widgets/base",
            "overflow": null,
            "_model_module_version": "1.2.0",
            "_view_count": null,
            "flex_flow": null,
            "width": null,
            "min_width": null,
            "border": null,
            "align_items": null,
            "bottom": null,
            "_model_module": "@jupyter-widgets/base",
            "top": null,
            "grid_column": null,
            "overflow_y": null,
            "overflow_x": null,
            "grid_auto_flow": null,
            "grid_area": null,
            "grid_template_columns": null,
            "flex": null,
            "_model_name": "LayoutModel",
            "justify_items": null,
            "grid_row": null,
            "max_height": null,
            "align_content": null,
            "visibility": null,
            "align_self": null,
            "height": null,
            "min_height": null,
            "padding": null,
            "grid_auto_rows": null,
            "grid_gap": null,
            "max_width": null,
            "order": null,
            "_view_module_version": "1.2.0",
            "grid_template_areas": null,
            "object_position": null,
            "object_fit": null,
            "grid_auto_columns": null,
            "margin": null,
            "display": null,
            "left": null
          }
        },
        "a42727815bdf4f099ba7cbe908df82b2": {
          "model_module": "@jupyter-widgets/controls",
          "model_name": "DescriptionStyleModel",
          "state": {
            "_view_name": "StyleView",
            "_model_name": "DescriptionStyleModel",
            "description_width": "",
            "_view_module": "@jupyter-widgets/base",
            "_model_module_version": "1.5.0",
            "_view_count": null,
            "_view_module_version": "1.2.0",
            "_model_module": "@jupyter-widgets/controls"
          }
        },
        "a0e0764c68c94c3fbcfdb767ee88f77b": {
          "model_module": "@jupyter-widgets/base",
          "model_name": "LayoutModel",
          "state": {
            "_view_name": "LayoutView",
            "grid_template_rows": null,
            "right": null,
            "justify_content": null,
            "_view_module": "@jupyter-widgets/base",
            "overflow": null,
            "_model_module_version": "1.2.0",
            "_view_count": null,
            "flex_flow": null,
            "width": null,
            "min_width": null,
            "border": null,
            "align_items": null,
            "bottom": null,
            "_model_module": "@jupyter-widgets/base",
            "top": null,
            "grid_column": null,
            "overflow_y": null,
            "overflow_x": null,
            "grid_auto_flow": null,
            "grid_area": null,
            "grid_template_columns": null,
            "flex": null,
            "_model_name": "LayoutModel",
            "justify_items": null,
            "grid_row": null,
            "max_height": null,
            "align_content": null,
            "visibility": null,
            "align_self": null,
            "height": null,
            "min_height": null,
            "padding": null,
            "grid_auto_rows": null,
            "grid_gap": null,
            "max_width": null,
            "order": null,
            "_view_module_version": "1.2.0",
            "grid_template_areas": null,
            "object_position": null,
            "object_fit": null,
            "grid_auto_columns": null,
            "margin": null,
            "display": null,
            "left": null
          }
        }
      }
    }
  },
  "cells": [
    {
      "cell_type": "markdown",
      "metadata": {
        "id": "c9QcGnGPdX2C",
        "colab_type": "text"
      },
      "source": [
        "\n",
        "**Install requirements**"
      ]
    },
    {
      "cell_type": "code",
      "metadata": {
        "id": "k9O3aM3Tb28q",
        "colab_type": "code",
        "colab": {}
      },
      "source": [
        "#!pip3 install 'torch==1.3.1'\n",
        "#!pip3 install 'torchvision==0.5.0'\n",
        "#!pip3 install 'Pillow-SIMD'\n",
        "#!pip3 install 'tqdm'"
      ],
      "execution_count": 0,
      "outputs": []
    },
    {
      "cell_type": "markdown",
      "metadata": {
        "id": "fo942LMOdlh4",
        "colab_type": "text"
      },
      "source": [
        "**Import libraries**"
      ]
    },
    {
      "cell_type": "code",
      "metadata": {
        "id": "DokFOdD1dJEl",
        "colab_type": "code",
        "colab": {}
      },
      "source": [
        "import os\n",
        "import logging\n",
        "import sys\n",
        "\n",
        "import matplotlib.pyplot as plt\n",
        "import numpy as np\n",
        "from sklearn.model_selection import train_test_split\n",
        "\n",
        "import torch\n",
        "import torch.nn as nn\n",
        "import torch.nn.functional as F\n",
        "import torch.optim as optim\n",
        "from torch.utils.data import Subset, DataLoader\n",
        "from torch.backends import cudnn\n",
        "\n",
        "import torchvision\n",
        "from torchvision import transforms\n",
        "from torchvision.models import alexnet\n",
        "from torchvision.models import resnet18\n",
        "from torchvision.models import vgg11\n",
        "\n",
        "from PIL import Image\n",
        "from tqdm import tqdm"
      ],
      "execution_count": 0,
      "outputs": []
    },
    {
      "cell_type": "markdown",
      "metadata": {
        "id": "OIDLJuIXK_vh",
        "colab_type": "text"
      },
      "source": [
        "**Set Arguments**"
      ]
    },
    {
      "cell_type": "code",
      "metadata": {
        "id": "d5PkYfqfK_SA",
        "colab_type": "code",
        "colab": {}
      },
      "source": [
        "DEVICE = 'cuda' # 'cuda' or 'cpu'\n",
        "\n",
        "NUM_CLASSES = 101 # BACKGROUND_Google class removed\n",
        "\n",
        "BATCH_SIZE = 256     # Higher batch sizes allows for larger learning rates. An empirical heuristic suggests that, when changing\n",
        "                     # the batch size, learning rate should change by the same factor to have comparable results\n",
        "# BATCH_SIZE = 64      # Smaller batch if using more advanced models than AlexNet\n",
        "\n",
        "# LR = 1e-3          # The initial Learning Rate\n",
        "LR = 5e-3\n",
        "\n",
        "MOMENTUM = 0.9       # Hyperparameter for SGD, keep this at 0.9 when using SGD\n",
        "WEIGHT_DECAY = 5e-5  #, 5e-3  # Regularization\n",
        "\n",
        "NUM_EPOCHS = 10      # Total number of training epochs (iterations over dataset)\n",
        "STEP_SIZE =  6      # How many epochs before decreasing learning rate (if using a step-down policy)\n",
        "GAMMA = 0.1          # Multiplicative factor for learning rate step-down\n",
        "\n",
        "# LOG_FREQUENCY = 10                    # Deprecated in my code\n",
        "EVAL_MODEL_AFTER_EACH_EPOCH = True      # Computer loss and accuracy on val at each epoch\n",
        "EVAL_ACCURACY_ON_TRAINING = True        # Compute accuracy on training at each epoch\n",
        "COMPUTE_AVG_OUTCOME_PROBABILITY = False # Whether to compute average probability (softmax) of the correct class on the minibatch\n",
        "\n",
        "PRETRAINED_ALEXNET = True\n",
        "FREEZE_LAYERS = 1                       # 0: Don't freeze, 1: freeze conv. layers, 2: freeze FC layers"
      ],
      "execution_count": 0,
      "outputs": []
    },
    {
      "cell_type": "markdown",
      "metadata": {
        "id": "9od0hc2oEkk1",
        "colab_type": "text"
      },
      "source": [
        "**Custom functions**"
      ]
    },
    {
      "cell_type": "code",
      "metadata": {
        "id": "EODxrqtIEj8K",
        "colab_type": "code",
        "colab": {}
      },
      "source": [
        "def imgshow(img):\n",
        "    img = img / 2 + 0.5     # unnormalize\n",
        "    npimg = img.numpy()\n",
        "    plt.imshow(np.transpose(npimg, (1, 2, 0)))\n",
        "    plt.show()\n",
        "\n",
        "    return"
      ],
      "execution_count": 0,
      "outputs": []
    },
    {
      "cell_type": "markdown",
      "metadata": {
        "id": "9gwii0TBHvzh",
        "colab_type": "text"
      },
      "source": [
        "**Define Data Preprocessing**"
      ]
    },
    {
      "cell_type": "code",
      "metadata": {
        "id": "QUDdw4j2H0Mc",
        "colab_type": "code",
        "colab": {}
      },
      "source": [
        "if PRETRAINED_ALEXNET:\n",
        "  normalization = transforms.Normalize((0.485, 0.456, 0.406), (0.229, 0.224, 0.225))\n",
        "else:\n",
        "  normalization = transforms.Normalize((0.5, 0.5, 0.5), (0.5, 0.5, 0.5))\n",
        "\n",
        "# --- Data augmentation possible transformations: (they are applied at runtime on the minibatch, so it is like augmenting the data!)\n",
        "# transforms.RandomCrop(224)\n",
        "# transforms.RandomHorizontalFlip(p=0.5)\n",
        "# transforms.ColorJitter(brightness=0.25, contrast=0.25, saturation=0.25, hue=0)\n",
        "\n",
        "# Define transforms for training phase\n",
        "train_transform = transforms.Compose([transforms.Resize(256),      # Resizes short size of the PIL image to 256\n",
        "                                      transforms.CenterCrop(224), # Crops a central square patch of the image\n",
        "                                                                   # 224 because torchvision's AlexNet needs a 224x224 input!\n",
        "                                                                   # Remember this when applying different transformations, otherwise you get an error\n",
        "                                      #transforms.RandomCrop(224),\n",
        "                                      #transforms.RandomHorizontalFlip(p=0.5),\n",
        "                                      #transforms.ColorJitter(brightness=0.2, contrast=0.2, saturation=0.2, hue=0),\n",
        "                                      transforms.ToTensor(), # Turn PIL Image to torch.Tensor\n",
        "                                      normalization # Normalizes tensor with mean and standard deviation\n",
        "])\n",
        "val_transform = transforms.Compose([transforms.Resize(256),      # Resizes short size of the PIL image to 256\n",
        "                                    transforms.CenterCrop(224),  # Crops a central square patch of the image\n",
        "                                                                   # 224 because torchvision's AlexNet needs a 224x224 input!\n",
        "                                                                   # Remember this when applying different transformations, otherwise you get an error\n",
        "                                    transforms.ToTensor(), # Turn PIL Image to torch.Tensor\n",
        "                                    normalization # Normalizes tensor with mean and standard deviation\n",
        "])\n",
        "# Define transforms for the evaluation phase\n",
        "eval_transform = transforms.Compose([transforms.Resize(256),\n",
        "                                      transforms.CenterCrop(224),\n",
        "                                      transforms.ToTensor(),\n",
        "                                      normalization                                    \n",
        "])"
      ],
      "execution_count": 0,
      "outputs": []
    },
    {
      "cell_type": "markdown",
      "metadata": {
        "id": "2qYIHPzYLY7i",
        "colab_type": "text"
      },
      "source": [
        "**Prepare Dataset**"
      ]
    },
    {
      "cell_type": "code",
      "metadata": {
        "id": "Qtwg8whzXBzu",
        "colab_type": "code",
        "colab": {}
      },
      "source": [
        "# Clone github repository with data\n",
        "import os\n",
        "if not os.path.isdir('./Caltech101'):\n",
        "  !git clone https://github.com/MachineLearning2020/Homework2-Caltech101.git\n",
        "  !mv 'Homework2-Caltech101' 'Caltech101'"
      ],
      "execution_count": 0,
      "outputs": []
    },
    {
      "cell_type": "code",
      "metadata": {
        "id": "QfVq_uDHLbsR",
        "colab_type": "code",
        "outputId": "7c36af1b-fdc9-47ab-9f92-938eeffe9c53",
        "colab": {
          "base_uri": "https://localhost:8080/",
          "height": 204
        }
      },
      "source": [
        "DATA_DIR = 'Caltech101/101_ObjectCategories/' # Dir path with slash at the end\n",
        "from Caltech101.caltech_dataset import Caltech\n",
        "\n",
        "# Prepare Pytorch train/test Datasets\n",
        "train_dataset = Caltech(DATA_DIR, split='train',  transform=train_transform, debug=False)\n",
        "val_dataset = Caltech(DATA_DIR, split='train',  transform=val_transform, debug=False)\n",
        "test_dataset = Caltech(DATA_DIR, split='test', transform=eval_transform, debug=False)\n",
        "\n",
        "# Get info on classes\n",
        "classes = train_dataset.classes.copy() # ['Faces', etc.]\n",
        "classesDict = train_dataset.classesDict # {'Faces': 0, 'Faces_easy': 1, etc.}\n",
        "\n",
        "# Split train into train and val\n",
        "train_indexes, val_indexes, y_train, y_val = train_test_split([i for i in range(len(train_dataset))], [item[1] for item in train_dataset.validIndexes], test_size=0.5, stratify=[item[1] for item in train_dataset.validIndexes])\n",
        "\n",
        "#val_dataset = Subset(train_dataset, val_indexes)\n",
        "val_dataset = Subset(val_dataset, val_indexes) # Like this I can apply torchvision tranformations on the training set only\n",
        "train_dataset = Subset(train_dataset, train_indexes)\n",
        "\n",
        "# Check dataset sizes\n",
        "print('Train Dataset: {}'.format(len(train_dataset)))\n",
        "print('Valid Dataset: {}'.format(len(val_dataset)))\n",
        "print('Test Dataset: {}'.format(len(test_dataset)))"
      ],
      "execution_count": 7,
      "outputs": [
        {
          "output_type": "stream",
          "text": [
            "--- LOADING train DATASET ---\n",
            "Ignored file: \"BACKGROUND_Google/tmp\" in: train\n",
            "---\n",
            "--- LOADING train DATASET ---\n",
            "Ignored file: \"BACKGROUND_Google/tmp\" in: train\n",
            "---\n",
            "--- LOADING test DATASET ---\n",
            "---\n",
            "Train Dataset: 2892\n",
            "Valid Dataset: 2892\n",
            "Test Dataset: 2893\n"
          ],
          "name": "stdout"
        }
      ]
    },
    {
      "cell_type": "markdown",
      "metadata": {
        "id": "FYEDQ7Z21ldN",
        "colab_type": "text"
      },
      "source": [
        "**Prepare Dataloaders**"
      ]
    },
    {
      "cell_type": "code",
      "metadata": {
        "id": "VriRw8SI1nle",
        "colab_type": "code",
        "colab": {}
      },
      "source": [
        "# Dataloaders iterate over pytorch datasets and transparently provide useful functions (e.g. parallelization and shuffling)\n",
        "train_dataloader = DataLoader(train_dataset, batch_size=BATCH_SIZE, shuffle=True, num_workers=4, drop_last=True)\n",
        "val_dataloader = DataLoader(val_dataset, batch_size=BATCH_SIZE, shuffle=False, num_workers=4)\n",
        "\n",
        "test_dataloader = DataLoader(test_dataset, batch_size=BATCH_SIZE, shuffle=False, num_workers=4)"
      ],
      "execution_count": 0,
      "outputs": []
    },
    {
      "cell_type": "markdown",
      "metadata": {
        "id": "gbZ1t5Qs2z4j",
        "colab_type": "text"
      },
      "source": [
        "**Prepare Network**"
      ]
    },
    {
      "cell_type": "code",
      "metadata": {
        "id": "exHUjtXa22DN",
        "colab_type": "code",
        "colab": {
          "base_uri": "https://localhost:8080/",
          "height": 103,
          "referenced_widgets": [
            "f17de556bafd4b2f8014c57d36254ff1",
            "02654c3b6ab646b98b4d99f0b0be8c9b",
            "20e44b8aecf546f98ab21980e6c83da4",
            "18dabe5cb6954e999835a2a19a03dc0f",
            "623057cca0334177bcbaf83061199f18",
            "16b6c084c4a14034be14cb6d0e574beb",
            "a42727815bdf4f099ba7cbe908df82b2",
            "a0e0764c68c94c3fbcfdb767ee88f77b"
          ]
        },
        "outputId": "dadaf1e4-d8fa-4f3e-f5ce-ed307a772960"
      },
      "source": [
        "if PRETRAINED_ALEXNET == False:\n",
        "  net = alexnet(pretrained=False) # Loading AlexNet model\n",
        "else:\n",
        "  net = alexnet(pretrained=True)\n",
        "\n",
        "# --- EXTRA\n",
        "#net = resnet18(pretrained=True)\n",
        "#net.fc = nn.Linear(512, NUM_CLASSES)\n",
        "#net = vgg11(pretrained=True)\n",
        "#net.classifier[6] = nn.Linear(4096, NUM_CLASSES)\n",
        "\n",
        "# AlexNet has 1000 output neurons, corresponding to the 1000 ImageNet's classes\n",
        "# We need 101 outputs for Caltech-101\n",
        "net.classifier[6] = nn.Linear(4096, NUM_CLASSES)"
      ],
      "execution_count": 9,
      "outputs": [
        {
          "output_type": "stream",
          "text": [
            "Downloading: \"https://download.pytorch.org/models/alexnet-owt-4df8aa71.pth\" to /root/.cache/torch/checkpoints/alexnet-owt-4df8aa71.pth\n"
          ],
          "name": "stderr"
        },
        {
          "output_type": "display_data",
          "data": {
            "application/vnd.jupyter.widget-view+json": {
              "model_id": "f17de556bafd4b2f8014c57d36254ff1",
              "version_minor": 0,
              "version_major": 2
            },
            "text/plain": [
              "HBox(children=(FloatProgress(value=0.0, max=244418560.0), HTML(value='')))"
            ]
          },
          "metadata": {
            "tags": []
          }
        },
        {
          "output_type": "stream",
          "text": [
            "\n"
          ],
          "name": "stdout"
        }
      ]
    },
    {
      "cell_type": "markdown",
      "metadata": {
        "id": "KEyL3H_R4qCf",
        "colab_type": "text"
      },
      "source": [
        "**Prepare Training**"
      ]
    },
    {
      "cell_type": "code",
      "metadata": {
        "id": "9sjq00G94tSc",
        "colab_type": "code",
        "colab": {}
      },
      "source": [
        "# Define loss function\n",
        "criterion = nn.CrossEntropyLoss() # for classification, we use Cross Entropy\n",
        "criterion_val = nn.CrossEntropyLoss(reduction='sum') # for evaluation I don't want to avg over every minibatch\n",
        "\n",
        "# Choose parameters to optimize\n",
        "# To access a different set of parameters, you have to access submodules of AlexNet\n",
        "# (nn.Module objects, like AlexNet, implement the Composite Pattern)\n",
        "# e.g.: parameters of the fully connected layers: net.classifier.parameters()\n",
        "# e.g.: parameters of the convolutional layers: look at alexnet's source code ;) \n",
        "if FREEZE_LAYERS == 0:\n",
        "  parameters_to_optimize = net.parameters() # In this case we optimize over all the parameters of AlexNet\n",
        "elif FREEZE_LAYERS == 1: # Freeze Conv. layers\n",
        "  parameters_to_optimize = net.classifier.parameters() # Only update FC layers parameters\n",
        "elif FREEZE_LAYERS == 2: # Freeze FC layers\n",
        "  parameters_to_optimize = net.features.parameters() # Only update conv. layers parameters\n",
        "else:\n",
        "  print('Errore fatale nel settaggio dei FREEZE_LAYERS')\n",
        "  sys.exit()\n",
        "\n",
        "# Define optimizer for gradient descent\n",
        "# An optimizer updates the weights based on their gradient on the loss\n",
        "optimizer = optim.SGD(parameters_to_optimize, lr=LR, momentum=MOMENTUM, weight_decay=WEIGHT_DECAY)\n",
        "# Adam requires a smaller LR otherwise it tends to diverge at the very first iterations (Use LR <= 1e-3)\n",
        "#optimizer = optim.Adam(parameters_to_optimize, lr=1e-3, betas=(0.9, 0.999), eps=1e-08, weight_decay=WEIGHT_DECAY, amsgrad=False)\n",
        "#optimzer = optim.Adadelta(params, lr=1.0, rho=0.9, eps=1e-06, weight_decay=WEIGHT_DECAY)\n",
        "\n",
        "# Define scheduler\n",
        "# A scheduler dynamically changes learning rate\n",
        "# The most common schedule is the step(-down), which multiplies learning rate by gamma every STEP_SIZE epochs\n",
        "scheduler = optim.lr_scheduler.StepLR(optimizer, step_size=STEP_SIZE, gamma=GAMMA)"
      ],
      "execution_count": 0,
      "outputs": []
    },
    {
      "cell_type": "markdown",
      "metadata": {
        "id": "AxYUli9d9uYQ",
        "colab_type": "text"
      },
      "source": [
        "**Train**"
      ]
    },
    {
      "cell_type": "code",
      "metadata": {
        "id": "ZcoQ5fD49yT_",
        "colab_type": "code",
        "colab": {
          "base_uri": "https://localhost:8080/",
          "height": 938
        },
        "outputId": "74680906-802d-46ac-8d53-d5dba238fd54"
      },
      "source": [
        "# By default, everything is loaded to cpu\n",
        "net = net.to(DEVICE) # this will bring the network to GPU if DEVICE is cuda\n",
        "\n",
        "cudnn.benchmark # Calling this optimizes runtime\n",
        "\n",
        "current_step = 0\n",
        "losses_train = []\n",
        "losses_val = []\n",
        "accuracies_val = []\n",
        "accuracies_train = []\n",
        "# Start iterating over the epochs\n",
        "for epoch in range(NUM_EPOCHS):\n",
        "  print('Starting epoch {}/{}, LR = {}'.format(epoch+1, NUM_EPOCHS, scheduler.get_lr()))\n",
        "\n",
        "  # Iterate over the dataset\n",
        "  for images, labels in train_dataloader:\n",
        "    # Bring data over the device of choice\n",
        "    images = images.to(DEVICE)\n",
        "    labels = labels.to(DEVICE)\n",
        "\n",
        "    net.train() # Sets module in training mode\n",
        "\n",
        "    # PyTorch, by default, accumulates gradients after each backward pass\n",
        "    # We need to manually set the gradients to zero before starting a new iteration\n",
        "    optimizer.zero_grad() # Zero-ing the gradients\n",
        "\n",
        "    # Forward pass to the network\n",
        "    outputs = net(images)\n",
        "    \n",
        "    # print(outputs) # Initially, they are very close to zero e.g. [3.7863e-03, -1.7505e-02, -4.1586e-03,  ...,  1.3966e-02,\n",
        "                     # -9.5620e-03,  1.3556e-03]\n",
        "\n",
        "    # print(outputs.detach().cpu().numpy().var(axis=-1)) # Really small variance at the beginning\n",
        "\n",
        "    # Compute loss based on output and ground truth\n",
        "    loss = criterion(outputs, labels)\n",
        "\n",
        "    if current_step == 0:\n",
        "      print('--- Initial loss on train: {}'.format(loss.item()))\n",
        "\n",
        "    # Compute gradients for each layer and update weights\n",
        "    loss.backward()  # backward pass: computes gradients\n",
        "    optimizer.step() # update weights based on accumulated gradients    \n",
        "\n",
        "    current_step += 1\n",
        "\n",
        "  # End of one epoch    \n",
        "  print('--- Epoch {}, Loss on train: {}'.format(epoch+1, loss.item()))\n",
        "  losses_train.append(loss.item())\n",
        "\n",
        "  if COMPUTE_AVG_OUTCOME_PROBABILITY:\n",
        "    softmaxs = F.softmax(outputs, dim=-1)\n",
        "    softmaxs = softmaxs.detach().cpu().numpy()\n",
        "    prob_for_each_sample = np.array([softmaxs[i, labels[i]] for i in range(len(softmaxs))])\n",
        "\n",
        "    mean_true_prob = prob_for_each_sample.mean()\n",
        "    mean_lower_bound = np.exp(-1*loss.item())\n",
        "\n",
        "    print('(TRUE,LB):', mean_true_prob, mean_lower_bound) # All'inizio i valori sono comunque molto bassi e in un intorno abbastanza piccolo di 0.0099 si può considerare lineare log(x)\n",
        "\n",
        "  if EVAL_MODEL_AFTER_EACH_EPOCH:\n",
        "    # EVALUATE TEMPORARY MODEL ON VALIDATION SET\n",
        "    net.train(False)\n",
        "\n",
        "    running_corrects_val = 0\n",
        "    cum_loss_val = 0\n",
        "\n",
        "    #for images_val, labels_val in tqdm(val_dataloader):\n",
        "    for images_val, labels_val in val_dataloader:\n",
        "      images_val = images_val.to(DEVICE)\n",
        "      labels_val = labels_val.to(DEVICE)\n",
        "\n",
        "      # Forward Pass\n",
        "      outputs_val = net(images_val)\n",
        "\n",
        "      cum_loss_val += criterion_val(outputs_val, labels_val).item()\n",
        "\n",
        "      # Get predictions\n",
        "      _, preds = torch.max(outputs_val.data, 1)\n",
        "\n",
        "      # Update Corrects\n",
        "      running_corrects_val += torch.sum(preds == labels_val.data).data.item()\n",
        "\n",
        "    # Calculate Accuracy\n",
        "    accuracy_val = running_corrects_val / float(len(val_dataset))\n",
        "    loss_val = cum_loss_val / float(len(val_dataset))\n",
        "\n",
        "    losses_val.append(loss_val)\n",
        "    accuracies_val.append(accuracy_val)\n",
        "    \n",
        "    print('Loss on val:', loss_val)\n",
        "    print('Accuracy on val:', accuracy_val)\n",
        "\n",
        "  if EVAL_ACCURACY_ON_TRAINING:\n",
        "    net.train(False)\n",
        "\n",
        "    running_corrects_train = 0\n",
        "\n",
        "    for images_train, labels_train in train_dataloader:\n",
        "      images_train = images_train.to(DEVICE)\n",
        "      labels_train = labels_train.to(DEVICE)\n",
        "\n",
        "      # Forward Pass\n",
        "      outputs_train = net(images_train)\n",
        "\n",
        "      # Get predictions\n",
        "      _, preds = torch.max(outputs_train.data, 1)\n",
        "\n",
        "      # Update Corrects\n",
        "      running_corrects_train += torch.sum(preds == labels_train.data).data.item()\n",
        "\n",
        "    # Calculate Accuracy\n",
        "    accuracy_train = running_corrects_train / float(len(train_dataset))\n",
        "\n",
        "    accuracies_train.append(accuracy_train)\n",
        "\n",
        "    print('Accuracy on train:', accuracy_train)\n",
        "  # Step the scheduler\n",
        "  scheduler.step() "
      ],
      "execution_count": 11,
      "outputs": [
        {
          "output_type": "stream",
          "text": [
            "Starting epoch 1/10, LR = [0.005]\n"
          ],
          "name": "stdout"
        },
        {
          "output_type": "stream",
          "text": [
            "/usr/local/lib/python3.6/dist-packages/torch/optim/lr_scheduler.py:351: UserWarning: To get the last learning rate computed by the scheduler, please use `get_last_lr()`.\n",
            "  \"please use `get_last_lr()`.\", UserWarning)\n"
          ],
          "name": "stderr"
        },
        {
          "output_type": "stream",
          "text": [
            "--- Initial loss on train: 4.967557430267334\n",
            "--- Epoch 1, Loss on train: 2.281343936920166\n",
            "Loss on val: 1.990236073938478\n",
            "Accuracy on val: 0.5477178423236515\n",
            "Accuracy on train: 0.5674273858921162\n",
            "Starting epoch 2/10, LR = [0.005]\n",
            "--- Epoch 2, Loss on train: 0.9561805129051208\n",
            "Loss on val: 1.0854530941236398\n",
            "Accuracy on val: 0.7468879668049793\n",
            "Accuracy on train: 0.8208852005532503\n",
            "Starting epoch 3/10, LR = [0.005]\n",
            "--- Epoch 3, Loss on train: 0.5013899207115173\n",
            "Loss on val: 0.7557550538460084\n",
            "Accuracy on val: 0.8063623789764869\n",
            "Accuracy on train: 0.9118257261410788\n",
            "Starting epoch 4/10, LR = [0.005]\n",
            "--- Epoch 4, Loss on train: 0.2333037406206131\n",
            "Loss on val: 0.6609707010567271\n",
            "Accuracy on val: 0.8236514522821576\n",
            "Accuracy on train: 0.9415629322268326\n",
            "Starting epoch 5/10, LR = [0.005]\n",
            "--- Epoch 5, Loss on train: 0.18243564665317535\n",
            "Loss on val: 0.6236945016420399\n",
            "Accuracy on val: 0.8278008298755186\n",
            "Accuracy on train: 0.9564315352697096\n",
            "Starting epoch 6/10, LR = [0.005]\n",
            "--- Epoch 6, Loss on train: 0.09961161017417908\n",
            "Loss on val: 0.5982344087888262\n",
            "Accuracy on val: 0.8392116182572614\n",
            "Accuracy on train: 0.9640387275242047\n",
            "Starting epoch 7/10, LR = [5e-05]\n",
            "--- Epoch 7, Loss on train: 0.14404447376728058\n",
            "Loss on val: 0.5960345340797351\n",
            "Accuracy on val: 0.8395573997233748\n",
            "Accuracy on train: 0.9661134163208852\n",
            "Starting epoch 8/10, LR = [0.0005]\n",
            "--- Epoch 8, Loss on train: 0.11611942946910858\n",
            "Loss on val: 0.5938327361933918\n",
            "Accuracy on val: 0.8392116182572614\n",
            "Accuracy on train: 0.9674965421853389\n",
            "Starting epoch 9/10, LR = [0.0005]\n",
            "--- Epoch 9, Loss on train: 0.13945350050926208\n",
            "Loss on val: 0.5930704021849573\n",
            "Accuracy on val: 0.838865836791148\n",
            "Accuracy on train: 0.9671507607192255\n",
            "Starting epoch 10/10, LR = [0.0005]\n",
            "--- Epoch 10, Loss on train: 0.12520520389080048\n",
            "Loss on val: 0.5918244062452725\n",
            "Accuracy on val: 0.8381742738589212\n",
            "Accuracy on train: 0.9671507607192255\n"
          ],
          "name": "stdout"
        }
      ]
    },
    {
      "cell_type": "code",
      "metadata": {
        "id": "7ks-CSnsexPP",
        "colab_type": "code",
        "colab": {}
      },
      "source": [
        "#initialNet = alexnet(pretrained=True)\n",
        "\n",
        "# --- Check if FC layers parameters changed from the beginning\n",
        "#print(list(net.classifier.parameters())[0][0].data.cpu().numpy() == list(initialNet.classifier.parameters())[0][0].data.cpu().numpy())\n",
        "\n",
        "# --- Check if Conv. layers parameters changed from the beginning\n",
        "#print(list(net.features.parameters())[0][0][0].data.cpu().numpy() == list(initialNet.features.parameters())[0][0][0].data.cpu().numpy())"
      ],
      "execution_count": 0,
      "outputs": []
    },
    {
      "cell_type": "markdown",
      "metadata": {
        "id": "K6p_gYMV3waF",
        "colab_type": "text"
      },
      "source": [
        "**Plot results after training**"
      ]
    },
    {
      "cell_type": "code",
      "metadata": {
        "id": "GiH1Y6023y3w",
        "colab_type": "code",
        "colab": {
          "base_uri": "https://localhost:8080/",
          "height": 727
        },
        "outputId": "9bbb6c15-0420-4d40-c98e-ee7ecc1a5fe8"
      },
      "source": [
        "fig, ax = plt.subplots(nrows=1, ncols=1, figsize=(8,5))\n",
        "\n",
        "epochs = [i for i in range(1, NUM_EPOCHS+1)]\n",
        "ax.plot(epochs, losses_train, linestyle='-', marker='*', label='Training loss')\n",
        "ax.plot(epochs, losses_val, linestyle='-', marker='*', label='Validation loss')\n",
        "\n",
        "ax.set_xlabel('Epochs', labelpad=12, fontweight='bold')\n",
        "ax.set_ylabel('Cross Entropy Loss', labelpad=12, rotation=90, fontweight='bold')\n",
        "\n",
        "ax.set_title('Loss during gradient descent', pad=20, fontweight='bold')\n",
        "\n",
        "ax.legend()\n",
        "plt.grid(alpha=0.3)\n",
        "plt.show()\n",
        "\n",
        "# Plot accuracies\n",
        "\n",
        "fig, ax = plt.subplots(nrows=1, ncols=1, figsize=(8,5))\n",
        "\n",
        "epochs = [i for i in range(1, NUM_EPOCHS+1)]\n",
        "ax.plot(epochs, accuracies_train, color='#7B1FA2', linestyle='-', marker='*', label='Training accuracy')\n",
        "ax.plot(epochs, accuracies_val, color='#FFC107', linestyle='-', marker='*', label='Validation accuracy')\n",
        "\n",
        "ax.set_xlabel('Epochs', labelpad=12, fontweight='bold')\n",
        "ax.set_ylabel('Accuracy', labelpad=12, rotation=90, fontweight='bold')\n",
        "\n",
        "ax.set_title('Accuracy during gradient descent', pad=20, fontweight='bold')\n",
        "\n",
        "ax.legend()\n",
        "plt.grid(alpha=0.3)\n",
        "plt.show()"
      ],
      "execution_count": 13,
      "outputs": [
        {
          "output_type": "display_data",
          "data": {
            "image/png": "[encoded data removed]",
            "text/plain": [
              "<Figure size 576x360 with 1 Axes>"
            ]
          },
          "metadata": {
            "tags": [],
            "needs_background": "light"
          }
        },
        {
          "output_type": "display_data",
          "data": {
            "image/png": "[encoded data removed]",
            "text/plain": [
              "<Figure size 576x360 with 1 Axes>"
            ]
          },
          "metadata": {
            "tags": [],
            "needs_background": "light"
          }
        }
      ]
    },
    {
      "cell_type": "markdown",
      "metadata": {
        "id": "UsHFI-GAJd69",
        "colab_type": "text"
      },
      "source": [
        "**Validation**"
      ]
    },
    {
      "cell_type": "code",
      "metadata": {
        "id": "EO3HV5pqJg1o",
        "colab_type": "code",
        "colab": {
          "base_uri": "https://localhost:8080/",
          "height": 51
        },
        "outputId": "4c2fda87-0dad-41be-c5d6-14b77ff4ce78"
      },
      "source": [
        "net = net.to(DEVICE) # this will bring the network to GPU if DEVICE is cuda\n",
        "net.train(False) # Set Network to evaluation mode\n",
        "\n",
        "running_corrects = 0\n",
        "for images, labels in tqdm(val_dataloader):\n",
        "  images = images.to(DEVICE)\n",
        "  labels = labels.to(DEVICE)\n",
        "\n",
        "  # Forward Pass\n",
        "  outputs = net(images)\n",
        "\n",
        "  # Get predictions\n",
        "  _, preds = torch.max(outputs.data, 1)\n",
        "\n",
        "  # Update Corrects\n",
        "  running_corrects += torch.sum(preds == labels.data).data.item()\n",
        "\n",
        "# Calculate Accuracy\n",
        "accuracy = running_corrects / float(len(val_dataset))\n",
        "\n",
        "print('Validation Accuracy: {}'.format(accuracy))"
      ],
      "execution_count": 14,
      "outputs": [
        {
          "output_type": "stream",
          "text": [
            "100%|██████████| 12/12 [00:10<00:00,  1.14it/s]"
          ],
          "name": "stderr"
        },
        {
          "output_type": "stream",
          "text": [
            "Validation Accuracy: 0.8381742738589212\n"
          ],
          "name": "stdout"
        },
        {
          "output_type": "stream",
          "text": [
            "\n"
          ],
          "name": "stderr"
        }
      ]
    },
    {
      "cell_type": "markdown",
      "metadata": {
        "id": "jxekmR745ySe",
        "colab_type": "text"
      },
      "source": [
        "**Test**"
      ]
    },
    {
      "cell_type": "code",
      "metadata": {
        "id": "fSHcUqLB5yWO",
        "colab_type": "code",
        "colab": {
          "base_uri": "https://localhost:8080/",
          "height": 51
        },
        "outputId": "25a5afc3-a4c9-4735-c887-f7e47a9d1b7b"
      },
      "source": [
        "net = net.to(DEVICE) # this will bring the network to GPU if DEVICE is cuda\n",
        "net.train(False) # Set Network to evaluation mode\n",
        "\n",
        "running_corrects = 0\n",
        "for images, labels in tqdm(test_dataloader):\n",
        "  images = images.to(DEVICE)\n",
        "  labels = labels.to(DEVICE)\n",
        "\n",
        "  # Forward Pass\n",
        "  outputs = net(images)\n",
        "\n",
        "  # Get predictions\n",
        "  _, preds = torch.max(outputs.data, 1)\n",
        "\n",
        "  # Update Corrects\n",
        "  running_corrects += torch.sum(preds == labels.data).data.item()\n",
        "\n",
        "# Calculate Accuracy\n",
        "accuracy = running_corrects / float(len(test_dataset))\n",
        "\n",
        "print('Test Accuracy: {}'.format(accuracy))"
      ],
      "execution_count": 15,
      "outputs": [
        {
          "output_type": "stream",
          "text": [
            "100%|██████████| 12/12 [00:10<00:00,  1.14it/s]"
          ],
          "name": "stderr"
        },
        {
          "output_type": "stream",
          "text": [
            "Test Accuracy: 0.8347735914275838\n"
          ],
          "name": "stdout"
        },
        {
          "output_type": "stream",
          "text": [
            "\n"
          ],
          "name": "stderr"
        }
      ]
    }
  ]
}